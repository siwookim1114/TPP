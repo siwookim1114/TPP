{
 "cells": [
  {
   "cell_type": "markdown",
   "metadata": {},
   "source": [
    "# Data Scraping Instagram"
   ]
  },
  {
   "cell_type": "markdown",
   "metadata": {},
   "source": [
    "# Install Libraries"
   ]
  },
  {
   "cell_type": "code",
   "execution_count": 1,
   "metadata": {},
   "outputs": [],
   "source": [
    "import instaloader, pathlib, csv\n",
    "from pathlib import Path"
   ]
  },
  {
   "cell_type": "markdown",
   "metadata": {},
   "source": [
    "# Data Collection"
   ]
  },
  {
   "cell_type": "markdown",
   "metadata": {},
   "source": [
    "## Directory"
   ]
  },
  {
   "cell_type": "code",
   "execution_count": 2,
   "metadata": {},
   "outputs": [
    {
     "name": "stdout",
     "output_type": "stream",
     "text": [
      "이미지 저장 디렉터리:  /Users/rlatldn20001114/TPP/Data_Extraction/instagram_downloads/p2r.ujin\n"
     ]
    }
   ],
   "source": [
    "TARGET_USER = \"p2r.ujin\"  \n",
    "base_dir = Path(\"/Users/rlatldn20001114/TPP/Data_Extraction/instagram_downloads\")\n",
    "save_dir = base_dir / TARGET_USER\n",
    "save_dir.mkdir(parents = True, exist_ok = True)\n",
    "print(\"이미지 저장 디렉터리: \", save_dir.resolve())\n"
   ]
  },
  {
   "cell_type": "markdown",
   "metadata": {},
   "source": [
    "## Initialization and Create Sessions"
   ]
  },
  {
   "cell_type": "code",
   "execution_count": 3,
   "metadata": {},
   "outputs": [],
   "source": [
    "data_loader = instaloader.Instaloader(\n",
    "    download_videos = False,\n",
    "    download_video_thumbnails = False,\n",
    "    download_comments = False,\n",
    "    save_metadata = False,\n",
    "    post_metadata_txt_pattern = '',\n",
    ")"
   ]
  },
  {
   "cell_type": "code",
   "execution_count": 6,
   "metadata": {},
   "outputs": [
    {
     "name": "stdout",
     "output_type": "stream",
     "text": [
      "Loaded session from /Users/rlatldn20001114/TPP/Data_Extraction/k_siw00.session.\n",
      "세션 파일을 로드하였습니다.\n"
     ]
    }
   ],
   "source": [
    "try:\n",
    "    data_loader.load_session_from_file(\"k_siw00\", filename = \"/Users/rlatldn20001114/TPP/Data_Extraction/k_siw00.session\")\n",
    "    print(\"세션 파일을 로드하였습니다.\")\n",
    "except FileNotFoundError:\n",
    "    print(\"세션 파일을 못 찾았습니다.\")\n"
   ]
  },
  {
   "cell_type": "markdown",
   "metadata": {},
   "source": [
    "## 이미지 다운로드 (fast_update = True : 이미 받은건 스킵)"
   ]
  },
  {
   "cell_type": "code",
   "execution_count": 7,
   "metadata": {},
   "outputs": [
    {
     "name": "stdout",
     "output_type": "stream",
     "text": [
      "∕Users∕rlatldn20001114∕TPP∕Data_Extraction∕instagram_downloads∕p2r.ujin/2025-06-01_00-26-32_UTC_1.jpg ∕Users∕rlatldn20001114∕TPP∕Data_Extraction∕instagram_downloads∕p2r.ujin/2025-06-01_00-26-32_UTC_2.jpg \n",
      "∕Users∕rlatldn20001114∕TPP∕Data_Extraction∕instagram_downloads∕p2r.ujin/2025-05-27_00-13-51_UTC_1.jpg ∕Users∕rlatldn20001114∕TPP∕Data_Extraction∕instagram_downloads∕p2r.ujin/2025-05-27_00-13-51_UTC_2.jpg \n",
      "∕Users∕rlatldn20001114∕TPP∕Data_Extraction∕instagram_downloads∕p2r.ujin/2025-05-26_02-28-12_UTC.jpg \n",
      "∕Users∕rlatldn20001114∕TPP∕Data_Extraction∕instagram_downloads∕p2r.ujin/2025-05-19_01-37-03_UTC_1.jpg ∕Users∕rlatldn20001114∕TPP∕Data_Extraction∕instagram_downloads∕p2r.ujin/2025-05-19_01-37-03_UTC_2.jpg \n",
      "∕Users∕rlatldn20001114∕TPP∕Data_Extraction∕instagram_downloads∕p2r.ujin/2025-05-18_01-30-27_UTC.jpg \n",
      "∕Users∕rlatldn20001114∕TPP∕Data_Extraction∕instagram_downloads∕p2r.ujin/2025-05-16_00-11-31_UTC_1.jpg ∕Users∕rlatldn20001114∕TPP∕Data_Extraction∕instagram_downloads∕p2r.ujin/2025-05-16_00-11-31_UTC_2.jpg ∕Users∕rlatldn20001114∕TPP∕Data_Extraction∕instagram_downloads∕p2r.ujin/2025-05-16_00-11-31_UTC_3.jpg \n",
      "∕Users∕rlatldn20001114∕TPP∕Data_Extraction∕instagram_downloads∕p2r.ujin/2025-05-13_02-16-33_UTC_1.jpg ∕Users∕rlatldn20001114∕TPP∕Data_Extraction∕instagram_downloads∕p2r.ujin/2025-05-13_02-16-33_UTC_2.jpg ∕Users∕rlatldn20001114∕TPP∕Data_Extraction∕instagram_downloads∕p2r.ujin/2025-05-13_02-16-33_UTC_3.jpg \n",
      "∕Users∕rlatldn20001114∕TPP∕Data_Extraction∕instagram_downloads∕p2r.ujin/2025-05-08_00-51-01_UTC.jpg \n",
      "∕Users∕rlatldn20001114∕TPP∕Data_Extraction∕instagram_downloads∕p2r.ujin/2025-05-02_00-27-36_UTC_2.jpg ∕Users∕rlatldn20001114∕TPP∕Data_Extraction∕instagram_downloads∕p2r.ujin/2025-05-02_00-27-36_UTC_3.jpg ∕Users∕rlatldn20001114∕TPP∕Data_Extraction∕instagram_downloads∕p2r.ujin/2025-05-02_00-27-36_UTC_4.jpg ∕Users∕rlatldn20001114∕TPP∕Data_Extraction∕instagram_downloads∕p2r.ujin/2025-05-02_00-27-36_UTC_5.jpg \n",
      "∕Users∕rlatldn20001114∕TPP∕Data_Extraction∕instagram_downloads∕p2r.ujin/2025-04-28_08-07-19_UTC_1.jpg ∕Users∕rlatldn20001114∕TPP∕Data_Extraction∕instagram_downloads∕p2r.ujin/2025-04-28_08-07-19_UTC_2.jpg ∕Users∕rlatldn20001114∕TPP∕Data_Extraction∕instagram_downloads∕p2r.ujin/2025-04-28_08-07-19_UTC_3.jpg \n",
      "∕Users∕rlatldn20001114∕TPP∕Data_Extraction∕instagram_downloads∕p2r.ujin/2025-04-26_10-46-40_UTC_2.jpg ∕Users∕rlatldn20001114∕TPP∕Data_Extraction∕instagram_downloads∕p2r.ujin/2025-04-26_10-46-40_UTC_3.jpg ∕Users∕rlatldn20001114∕TPP∕Data_Extraction∕instagram_downloads∕p2r.ujin/2025-04-26_10-46-40_UTC_4.jpg \n",
      "∕Users∕rlatldn20001114∕TPP∕Data_Extraction∕instagram_downloads∕p2r.ujin/2025-04-25_03-54-04_UTC_1.jpg ∕Users∕rlatldn20001114∕TPP∕Data_Extraction∕instagram_downloads∕p2r.ujin/2025-04-25_03-54-04_UTC_2.jpg \n",
      "∕Users∕rlatldn20001114∕TPP∕Data_Extraction∕instagram_downloads∕p2r.ujin/2025-04-22_01-19-26_UTC_1.jpg ∕Users∕rlatldn20001114∕TPP∕Data_Extraction∕instagram_downloads∕p2r.ujin/2025-04-22_01-19-26_UTC_2.jpg ∕Users∕rlatldn20001114∕TPP∕Data_Extraction∕instagram_downloads∕p2r.ujin/2025-04-22_01-19-26_UTC_3.jpg \n",
      "∕Users∕rlatldn20001114∕TPP∕Data_Extraction∕instagram_downloads∕p2r.ujin/2025-04-21_01-06-07_UTC_2.jpg \n",
      "∕Users∕rlatldn20001114∕TPP∕Data_Extraction∕instagram_downloads∕p2r.ujin/2025-04-18_00-22-52_UTC.jpg \n",
      "∕Users∕rlatldn20001114∕TPP∕Data_Extraction∕instagram_downloads∕p2r.ujin/2025-04-16_03-00-04_UTC_1.jpg ∕Users∕rlatldn20001114∕TPP∕Data_Extraction∕instagram_downloads∕p2r.ujin/2025-04-16_03-00-04_UTC_2.jpg ∕Users∕rlatldn20001114∕TPP∕Data_Extraction∕instagram_downloads∕p2r.ujin/2025-04-16_03-00-04_UTC_3.jpg \n",
      "∕Users∕rlatldn20001114∕TPP∕Data_Extraction∕instagram_downloads∕p2r.ujin/2025-04-14_00-38-44_UTC_1.jpg ∕Users∕rlatldn20001114∕TPP∕Data_Extraction∕instagram_downloads∕p2r.ujin/2025-04-14_00-38-44_UTC_2.jpg ∕Users∕rlatldn20001114∕TPP∕Data_Extraction∕instagram_downloads∕p2r.ujin/2025-04-14_00-38-44_UTC_3.jpg \n",
      "∕Users∕rlatldn20001114∕TPP∕Data_Extraction∕instagram_downloads∕p2r.ujin/2025-04-10_22-52-49_UTC_1.jpg ∕Users∕rlatldn20001114∕TPP∕Data_Extraction∕instagram_downloads∕p2r.ujin/2025-04-10_22-52-49_UTC_2.jpg ∕Users∕rlatldn20001114∕TPP∕Data_Extraction∕instagram_downloads∕p2r.ujin/2025-04-10_22-52-49_UTC_3.jpg \n",
      "∕Users∕rlatldn20001114∕TPP∕Data_Extraction∕instagram_downloads∕p2r.ujin/2025-04-07_23-25-58_UTC.jpg \n",
      "∕Users∕rlatldn20001114∕TPP∕Data_Extraction∕instagram_downloads∕p2r.ujin/2025-04-06_22-56-16_UTC.jpg \n",
      "\n",
      "∕Users∕rlatldn20001114∕TPP∕Data_Extraction∕instagram_downloads∕p2r.ujin/2025-04-02_03-28-53_UTC_1.jpg ∕Users∕rlatldn20001114∕TPP∕Data_Extraction∕instagram_downloads∕p2r.ujin/2025-04-02_03-28-53_UTC_2.jpg ∕Users∕rlatldn20001114∕TPP∕Data_Extraction∕instagram_downloads∕p2r.ujin/2025-04-02_03-28-53_UTC_3.jpg \n",
      "\n",
      "∕Users∕rlatldn20001114∕TPP∕Data_Extraction∕instagram_downloads∕p2r.ujin/2025-03-29_05-40-35_UTC.jpg \n",
      "∕Users∕rlatldn20001114∕TPP∕Data_Extraction∕instagram_downloads∕p2r.ujin/2025-03-27_23-56-50_UTC_1.jpg ∕Users∕rlatldn20001114∕TPP∕Data_Extraction∕instagram_downloads∕p2r.ujin/2025-03-27_23-56-50_UTC_2.jpg \n",
      "\n",
      "∕Users∕rlatldn20001114∕TPP∕Data_Extraction∕instagram_downloads∕p2r.ujin/2025-03-25_22-44-27_UTC.jpg \n",
      "∕Users∕rlatldn20001114∕TPP∕Data_Extraction∕instagram_downloads∕p2r.ujin/2025-03-20_23-45-27_UTC_1.jpg ∕Users∕rlatldn20001114∕TPP∕Data_Extraction∕instagram_downloads∕p2r.ujin/2025-03-20_23-45-27_UTC_2.jpg ∕Users∕rlatldn20001114∕TPP∕Data_Extraction∕instagram_downloads∕p2r.ujin/2025-03-20_23-45-27_UTC_3.jpg \n",
      "\n",
      "∕Users∕rlatldn20001114∕TPP∕Data_Extraction∕instagram_downloads∕p2r.ujin/2025-03-18_22-58-13_UTC.jpg \n",
      "∕Users∕rlatldn20001114∕TPP∕Data_Extraction∕instagram_downloads∕p2r.ujin/2025-03-16_22-34-31_UTC_1.jpg ∕Users∕rlatldn20001114∕TPP∕Data_Extraction∕instagram_downloads∕p2r.ujin/2025-03-16_22-34-31_UTC_2.jpg \n",
      "\n",
      "\n",
      "∕Users∕rlatldn20001114∕TPP∕Data_Extraction∕instagram_downloads∕p2r.ujin/2025-03-11_00-20-10_UTC_1.jpg ∕Users∕rlatldn20001114∕TPP∕Data_Extraction∕instagram_downloads∕p2r.ujin/2025-03-11_00-20-10_UTC_2.jpg \n",
      "\n",
      "∕Users∕rlatldn20001114∕TPP∕Data_Extraction∕instagram_downloads∕p2r.ujin/2025-03-03_01-05-01_UTC_2.jpg \n",
      "∕Users∕rlatldn20001114∕TPP∕Data_Extraction∕instagram_downloads∕p2r.ujin/2025-02-28_00-32-33_UTC.jpg \n",
      "∕Users∕rlatldn20001114∕TPP∕Data_Extraction∕instagram_downloads∕p2r.ujin/2025-02-26_04-29-42_UTC.jpg \n",
      "∕Users∕rlatldn20001114∕TPP∕Data_Extraction∕instagram_downloads∕p2r.ujin/2025-02-24_22-44-01_UTC_1.jpg ∕Users∕rlatldn20001114∕TPP∕Data_Extraction∕instagram_downloads∕p2r.ujin/2025-02-24_22-44-01_UTC_2.jpg \n",
      "∕Users∕rlatldn20001114∕TPP∕Data_Extraction∕instagram_downloads∕p2r.ujin/2025-02-23_23-26-31_UTC_1.jpg ∕Users∕rlatldn20001114∕TPP∕Data_Extraction∕instagram_downloads∕p2r.ujin/2025-02-23_23-26-31_UTC_2.jpg \n",
      "∕Users∕rlatldn20001114∕TPP∕Data_Extraction∕instagram_downloads∕p2r.ujin/2025-02-20_23-48-13_UTC_1.jpg ∕Users∕rlatldn20001114∕TPP∕Data_Extraction∕instagram_downloads∕p2r.ujin/2025-02-20_23-48-13_UTC_2.jpg \n",
      "∕Users∕rlatldn20001114∕TPP∕Data_Extraction∕instagram_downloads∕p2r.ujin/2025-02-19_01-01-24_UTC.jpg \n",
      "∕Users∕rlatldn20001114∕TPP∕Data_Extraction∕instagram_downloads∕p2r.ujin/2025-02-17_00-02-08_UTC_1.jpg ∕Users∕rlatldn20001114∕TPP∕Data_Extraction∕instagram_downloads∕p2r.ujin/2025-02-17_00-02-08_UTC_2.jpg \n",
      "∕Users∕rlatldn20001114∕TPP∕Data_Extraction∕instagram_downloads∕p2r.ujin/2025-02-14_00-12-08_UTC_1.jpg ∕Users∕rlatldn20001114∕TPP∕Data_Extraction∕instagram_downloads∕p2r.ujin/2025-02-14_00-12-08_UTC_2.jpg \n",
      "∕Users∕rlatldn20001114∕TPP∕Data_Extraction∕instagram_downloads∕p2r.ujin/2025-02-11_23-55-54_UTC_1.jpg ∕Users∕rlatldn20001114∕TPP∕Data_Extraction∕instagram_downloads∕p2r.ujin/2025-02-11_23-55-54_UTC_2.jpg \n",
      "∕Users∕rlatldn20001114∕TPP∕Data_Extraction∕instagram_downloads∕p2r.ujin/2025-02-09_23-24-45_UTC_1.jpg ∕Users∕rlatldn20001114∕TPP∕Data_Extraction∕instagram_downloads∕p2r.ujin/2025-02-09_23-24-45_UTC_2.jpg ∕Users∕rlatldn20001114∕TPP∕Data_Extraction∕instagram_downloads∕p2r.ujin/2025-02-09_23-24-45_UTC_3.jpg \n",
      "\n",
      "∕Users∕rlatldn20001114∕TPP∕Data_Extraction∕instagram_downloads∕p2r.ujin/2025-02-03_03-44-56_UTC_1.jpg ∕Users∕rlatldn20001114∕TPP∕Data_Extraction∕instagram_downloads∕p2r.ujin/2025-02-03_03-44-56_UTC_2.jpg \n",
      "∕Users∕rlatldn20001114∕TPP∕Data_Extraction∕instagram_downloads∕p2r.ujin/2025-01-30_23-43-55_UTC.jpg \n",
      "\n",
      "\n",
      "∕Users∕rlatldn20001114∕TPP∕Data_Extraction∕instagram_downloads∕p2r.ujin/2025-01-20_00-03-01_UTC_1.jpg ∕Users∕rlatldn20001114∕TPP∕Data_Extraction∕instagram_downloads∕p2r.ujin/2025-01-20_00-03-01_UTC_2.jpg ∕Users∕rlatldn20001114∕TPP∕Data_Extraction∕instagram_downloads∕p2r.ujin/2025-01-20_00-03-01_UTC_3.jpg \n",
      "∕Users∕rlatldn20001114∕TPP∕Data_Extraction∕instagram_downloads∕p2r.ujin/2025-01-15_23-16-47_UTC.jpg \n",
      "∕Users∕rlatldn20001114∕TPP∕Data_Extraction∕instagram_downloads∕p2r.ujin/2025-01-14_00-08-31_UTC.jpg \n",
      "∕Users∕rlatldn20001114∕TPP∕Data_Extraction∕instagram_downloads∕p2r.ujin/2025-01-08_23-39-18_UTC_1.jpg ∕Users∕rlatldn20001114∕TPP∕Data_Extraction∕instagram_downloads∕p2r.ujin/2025-01-08_23-39-18_UTC_2.jpg \n",
      "∕Users∕rlatldn20001114∕TPP∕Data_Extraction∕instagram_downloads∕p2r.ujin/2025-01-08_00-01-04_UTC.jpg \n",
      "∕Users∕rlatldn20001114∕TPP∕Data_Extraction∕instagram_downloads∕p2r.ujin/2024-12-30_23-41-20_UTC.jpg \n",
      "∕Users∕rlatldn20001114∕TPP∕Data_Extraction∕instagram_downloads∕p2r.ujin/2024-12-26_23-05-19_UTC_1.jpg ∕Users∕rlatldn20001114∕TPP∕Data_Extraction∕instagram_downloads∕p2r.ujin/2024-12-26_23-05-19_UTC_2.jpg \n",
      "∕Users∕rlatldn20001114∕TPP∕Data_Extraction∕instagram_downloads∕p2r.ujin/2024-12-24_00-05-09_UTC_1.jpg ∕Users∕rlatldn20001114∕TPP∕Data_Extraction∕instagram_downloads∕p2r.ujin/2024-12-24_00-05-09_UTC_2.jpg ∕Users∕rlatldn20001114∕TPP∕Data_Extraction∕instagram_downloads∕p2r.ujin/2024-12-24_00-05-09_UTC_3.jpg \n",
      "∕Users∕rlatldn20001114∕TPP∕Data_Extraction∕instagram_downloads∕p2r.ujin/2024-12-19_00-19-02_UTC_2.jpg \n",
      "∕Users∕rlatldn20001114∕TPP∕Data_Extraction∕instagram_downloads∕p2r.ujin/2024-12-15_23-30-10_UTC_1.jpg ∕Users∕rlatldn20001114∕TPP∕Data_Extraction∕instagram_downloads∕p2r.ujin/2024-12-15_23-30-10_UTC_2.jpg \n",
      "∕Users∕rlatldn20001114∕TPP∕Data_Extraction∕instagram_downloads∕p2r.ujin/2024-12-12_23-55-25_UTC.jpg \n",
      "∕Users∕rlatldn20001114∕TPP∕Data_Extraction∕instagram_downloads∕p2r.ujin/2024-12-09_00-18-04_UTC.jpg \n",
      "∕Users∕rlatldn20001114∕TPP∕Data_Extraction∕instagram_downloads∕p2r.ujin/2024-12-05_00-37-20_UTC.jpg \n",
      "∕Users∕rlatldn20001114∕TPP∕Data_Extraction∕instagram_downloads∕p2r.ujin/2024-12-03_00-27-09_UTC_1.jpg ∕Users∕rlatldn20001114∕TPP∕Data_Extraction∕instagram_downloads∕p2r.ujin/2024-12-03_00-27-09_UTC_2.jpg \n",
      "∕Users∕rlatldn20001114∕TPP∕Data_Extraction∕instagram_downloads∕p2r.ujin/2024-11-29_00-18-17_UTC_1.jpg ∕Users∕rlatldn20001114∕TPP∕Data_Extraction∕instagram_downloads∕p2r.ujin/2024-11-29_00-18-17_UTC_3.jpg \n",
      "∕Users∕rlatldn20001114∕TPP∕Data_Extraction∕instagram_downloads∕p2r.ujin/2024-11-25_03-15-15_UTC_1.jpg ∕Users∕rlatldn20001114∕TPP∕Data_Extraction∕instagram_downloads∕p2r.ujin/2024-11-25_03-15-15_UTC_2.jpg ∕Users∕rlatldn20001114∕TPP∕Data_Extraction∕instagram_downloads∕p2r.ujin/2024-11-25_03-15-15_UTC_3.jpg \n",
      "∕Users∕rlatldn20001114∕TPP∕Data_Extraction∕instagram_downloads∕p2r.ujin/2024-11-19_02-39-45_UTC.jpg \n",
      "∕Users∕rlatldn20001114∕TPP∕Data_Extraction∕instagram_downloads∕p2r.ujin/2024-11-18_03-02-20_UTC_2.jpg ∕Users∕rlatldn20001114∕TPP∕Data_Extraction∕instagram_downloads∕p2r.ujin/2024-11-18_03-02-20_UTC_3.jpg \n",
      "∕Users∕rlatldn20001114∕TPP∕Data_Extraction∕instagram_downloads∕p2r.ujin/2024-11-14_23-13-20_UTC_1.jpg ∕Users∕rlatldn20001114∕TPP∕Data_Extraction∕instagram_downloads∕p2r.ujin/2024-11-14_23-13-20_UTC_2.jpg ∕Users∕rlatldn20001114∕TPP∕Data_Extraction∕instagram_downloads∕p2r.ujin/2024-11-14_23-13-20_UTC_3.jpg \n",
      "∕Users∕rlatldn20001114∕TPP∕Data_Extraction∕instagram_downloads∕p2r.ujin/2024-11-14_00-04-57_UTC.jpg \n",
      "∕Users∕rlatldn20001114∕TPP∕Data_Extraction∕instagram_downloads∕p2r.ujin/2024-11-13_00-41-51_UTC_1.jpg ∕Users∕rlatldn20001114∕TPP∕Data_Extraction∕instagram_downloads∕p2r.ujin/2024-11-13_00-41-51_UTC_3.jpg \n",
      "∕Users∕rlatldn20001114∕TPP∕Data_Extraction∕instagram_downloads∕p2r.ujin/2024-11-11_22-48-21_UTC_1.jpg ∕Users∕rlatldn20001114∕TPP∕Data_Extraction∕instagram_downloads∕p2r.ujin/2024-11-11_22-48-21_UTC_2.jpg \n",
      "∕Users∕rlatldn20001114∕TPP∕Data_Extraction∕instagram_downloads∕p2r.ujin/2024-11-10_22-16-07_UTC.jpg \n",
      "∕Users∕rlatldn20001114∕TPP∕Data_Extraction∕instagram_downloads∕p2r.ujin/2024-11-07_22-45-05_UTC.jpg \n",
      "∕Users∕rlatldn20001114∕TPP∕Data_Extraction∕instagram_downloads∕p2r.ujin/2024-11-06_23-19-35_UTC_1.jpg ∕Users∕rlatldn20001114∕TPP∕Data_Extraction∕instagram_downloads∕p2r.ujin/2024-11-06_23-19-35_UTC_2.jpg \n",
      "∕Users∕rlatldn20001114∕TPP∕Data_Extraction∕instagram_downloads∕p2r.ujin/2024-10-29_03-34-18_UTC.jpg \n",
      "∕Users∕rlatldn20001114∕TPP∕Data_Extraction∕instagram_downloads∕p2r.ujin/2024-10-28_02-52-17_UTC.jpg \n",
      "∕Users∕rlatldn20001114∕TPP∕Data_Extraction∕instagram_downloads∕p2r.ujin/2024-10-25_02-55-45_UTC_1.jpg ∕Users∕rlatldn20001114∕TPP∕Data_Extraction∕instagram_downloads∕p2r.ujin/2024-10-25_02-55-45_UTC_3.jpg ∕Users∕rlatldn20001114∕TPP∕Data_Extraction∕instagram_downloads∕p2r.ujin/2024-10-25_02-55-45_UTC_4.jpg ∕Users∕rlatldn20001114∕TPP∕Data_Extraction∕instagram_downloads∕p2r.ujin/2024-10-25_02-55-45_UTC_5.jpg ∕Users∕rlatldn20001114∕TPP∕Data_Extraction∕instagram_downloads∕p2r.ujin/2024-10-25_02-55-45_UTC_6.jpg \n",
      "∕Users∕rlatldn20001114∕TPP∕Data_Extraction∕instagram_downloads∕p2r.ujin/2024-10-21_00-06-31_UTC_1.jpg ∕Users∕rlatldn20001114∕TPP∕Data_Extraction∕instagram_downloads∕p2r.ujin/2024-10-21_00-06-31_UTC_2.jpg \n",
      "∕Users∕rlatldn20001114∕TPP∕Data_Extraction∕instagram_downloads∕p2r.ujin/2024-10-18_00-27-05_UTC_2.jpg \n",
      "∕Users∕rlatldn20001114∕TPP∕Data_Extraction∕instagram_downloads∕p2r.ujin/2024-10-15_23-43-23_UTC_1.jpg ∕Users∕rlatldn20001114∕TPP∕Data_Extraction∕instagram_downloads∕p2r.ujin/2024-10-15_23-43-23_UTC_2.jpg \n",
      "∕Users∕rlatldn20001114∕TPP∕Data_Extraction∕instagram_downloads∕p2r.ujin/2024-10-14_01-15-10_UTC_1.jpg ∕Users∕rlatldn20001114∕TPP∕Data_Extraction∕instagram_downloads∕p2r.ujin/2024-10-14_01-15-10_UTC_2.jpg ∕Users∕rlatldn20001114∕TPP∕Data_Extraction∕instagram_downloads∕p2r.ujin/2024-10-14_01-15-10_UTC_3.jpg \n",
      "\n",
      "∕Users∕rlatldn20001114∕TPP∕Data_Extraction∕instagram_downloads∕p2r.ujin/2024-10-09_00-55-04_UTC_1.jpg ∕Users∕rlatldn20001114∕TPP∕Data_Extraction∕instagram_downloads∕p2r.ujin/2024-10-09_00-55-04_UTC_2.jpg \n",
      "∕Users∕rlatldn20001114∕TPP∕Data_Extraction∕instagram_downloads∕p2r.ujin/2024-10-06_22-42-53_UTC_1.jpg ∕Users∕rlatldn20001114∕TPP∕Data_Extraction∕instagram_downloads∕p2r.ujin/2024-10-06_22-42-53_UTC_2.jpg ∕Users∕rlatldn20001114∕TPP∕Data_Extraction∕instagram_downloads∕p2r.ujin/2024-10-06_22-42-53_UTC_3.jpg ∕Users∕rlatldn20001114∕TPP∕Data_Extraction∕instagram_downloads∕p2r.ujin/2024-10-06_22-42-53_UTC_4.jpg ∕Users∕rlatldn20001114∕TPP∕Data_Extraction∕instagram_downloads∕p2r.ujin/2024-10-06_22-42-53_UTC_5.jpg ∕Users∕rlatldn20001114∕TPP∕Data_Extraction∕instagram_downloads∕p2r.ujin/2024-10-06_22-42-53_UTC_6.jpg ∕Users∕rlatldn20001114∕TPP∕Data_Extraction∕instagram_downloads∕p2r.ujin/2024-10-06_22-42-53_UTC_7.jpg ∕Users∕rlatldn20001114∕TPP∕Data_Extraction∕instagram_downloads∕p2r.ujin/2024-10-06_22-42-53_UTC_8.jpg \n",
      "∕Users∕rlatldn20001114∕TPP∕Data_Extraction∕instagram_downloads∕p2r.ujin/2024-10-02_00-11-24_UTC_1.jpg ∕Users∕rlatldn20001114∕TPP∕Data_Extraction∕instagram_downloads∕p2r.ujin/2024-10-02_00-11-24_UTC_2.jpg \n",
      "∕Users∕rlatldn20001114∕TPP∕Data_Extraction∕instagram_downloads∕p2r.ujin/2024-09-29_23-15-10_UTC_1.jpg ∕Users∕rlatldn20001114∕TPP∕Data_Extraction∕instagram_downloads∕p2r.ujin/2024-09-29_23-15-10_UTC_2.jpg ∕Users∕rlatldn20001114∕TPP∕Data_Extraction∕instagram_downloads∕p2r.ujin/2024-09-29_23-15-10_UTC_3.jpg \n",
      "∕Users∕rlatldn20001114∕TPP∕Data_Extraction∕instagram_downloads∕p2r.ujin/2024-09-27_02-11-38_UTC_1.jpg ∕Users∕rlatldn20001114∕TPP∕Data_Extraction∕instagram_downloads∕p2r.ujin/2024-09-27_02-11-38_UTC_2.jpg ∕Users∕rlatldn20001114∕TPP∕Data_Extraction∕instagram_downloads∕p2r.ujin/2024-09-27_02-11-38_UTC_3.jpg \n",
      "∕Users∕rlatldn20001114∕TPP∕Data_Extraction∕instagram_downloads∕p2r.ujin/2024-09-24_23-22-08_UTC_1.jpg ∕Users∕rlatldn20001114∕TPP∕Data_Extraction∕instagram_downloads∕p2r.ujin/2024-09-24_23-22-08_UTC_2.jpg \n",
      "∕Users∕rlatldn20001114∕TPP∕Data_Extraction∕instagram_downloads∕p2r.ujin/2024-09-23_00-28-03_UTC_1.jpg ∕Users∕rlatldn20001114∕TPP∕Data_Extraction∕instagram_downloads∕p2r.ujin/2024-09-23_00-28-03_UTC_2.jpg \n",
      "∕Users∕rlatldn20001114∕TPP∕Data_Extraction∕instagram_downloads∕p2r.ujin/2024-09-20_00-13-18_UTC_1.jpg ∕Users∕rlatldn20001114∕TPP∕Data_Extraction∕instagram_downloads∕p2r.ujin/2024-09-20_00-13-18_UTC_2.jpg \n",
      "∕Users∕rlatldn20001114∕TPP∕Data_Extraction∕instagram_downloads∕p2r.ujin/2024-09-13_00-40-55_UTC_1.jpg ∕Users∕rlatldn20001114∕TPP∕Data_Extraction∕instagram_downloads∕p2r.ujin/2024-09-13_00-40-55_UTC_4.jpg ∕Users∕rlatldn20001114∕TPP∕Data_Extraction∕instagram_downloads∕p2r.ujin/2024-09-13_00-40-55_UTC_5.jpg ∕Users∕rlatldn20001114∕TPP∕Data_Extraction∕instagram_downloads∕p2r.ujin/2024-09-13_00-40-55_UTC_6.jpg ∕Users∕rlatldn20001114∕TPP∕Data_Extraction∕instagram_downloads∕p2r.ujin/2024-09-13_00-40-55_UTC_7.jpg \n",
      "∕Users∕rlatldn20001114∕TPP∕Data_Extraction∕instagram_downloads∕p2r.ujin/2024-09-10_23-43-19_UTC_1.jpg ∕Users∕rlatldn20001114∕TPP∕Data_Extraction∕instagram_downloads∕p2r.ujin/2024-09-10_23-43-19_UTC_2.jpg \n",
      "∕Users∕rlatldn20001114∕TPP∕Data_Extraction∕instagram_downloads∕p2r.ujin/2024-09-08_23-40-51_UTC.jpg \n",
      "∕Users∕rlatldn20001114∕TPP∕Data_Extraction∕instagram_downloads∕p2r.ujin/2024-09-06_01-00-10_UTC_1.jpg ∕Users∕rlatldn20001114∕TPP∕Data_Extraction∕instagram_downloads∕p2r.ujin/2024-09-06_01-00-10_UTC_2.jpg \n",
      "∕Users∕rlatldn20001114∕TPP∕Data_Extraction∕instagram_downloads∕p2r.ujin/2024-09-04_00-20-00_UTC_1.jpg ∕Users∕rlatldn20001114∕TPP∕Data_Extraction∕instagram_downloads∕p2r.ujin/2024-09-04_00-20-00_UTC_2.jpg ∕Users∕rlatldn20001114∕TPP∕Data_Extraction∕instagram_downloads∕p2r.ujin/2024-09-04_00-20-00_UTC_3.jpg \n",
      "∕Users∕rlatldn20001114∕TPP∕Data_Extraction∕instagram_downloads∕p2r.ujin/2024-09-01_23-53-18_UTC_1.jpg ∕Users∕rlatldn20001114∕TPP∕Data_Extraction∕instagram_downloads∕p2r.ujin/2024-09-01_23-53-18_UTC_2.jpg \n",
      "∕Users∕rlatldn20001114∕TPP∕Data_Extraction∕instagram_downloads∕p2r.ujin/2024-08-30_00-47-22_UTC_1.jpg \n",
      "∕Users∕rlatldn20001114∕TPP∕Data_Extraction∕instagram_downloads∕p2r.ujin/2024-08-26_00-29-27_UTC_1.jpg ∕Users∕rlatldn20001114∕TPP∕Data_Extraction∕instagram_downloads∕p2r.ujin/2024-08-26_00-29-27_UTC_2.jpg \n",
      "∕Users∕rlatldn20001114∕TPP∕Data_Extraction∕instagram_downloads∕p2r.ujin/2024-08-23_00-18-40_UTC_1.jpg ∕Users∕rlatldn20001114∕TPP∕Data_Extraction∕instagram_downloads∕p2r.ujin/2024-08-23_00-18-40_UTC_3.jpg \n",
      "∕Users∕rlatldn20001114∕TPP∕Data_Extraction∕instagram_downloads∕p2r.ujin/2024-08-14_00-31-16_UTC.jpg \n",
      "∕Users∕rlatldn20001114∕TPP∕Data_Extraction∕instagram_downloads∕p2r.ujin/2024-08-12_03-53-19_UTC_1.jpg ∕Users∕rlatldn20001114∕TPP∕Data_Extraction∕instagram_downloads∕p2r.ujin/2024-08-12_03-53-19_UTC_2.jpg \n",
      "∕Users∕rlatldn20001114∕TPP∕Data_Extraction∕instagram_downloads∕p2r.ujin/2024-08-04_22-58-30_UTC_1.jpg ∕Users∕rlatldn20001114∕TPP∕Data_Extraction∕instagram_downloads∕p2r.ujin/2024-08-04_22-58-30_UTC_2.jpg \n",
      "∕Users∕rlatldn20001114∕TPP∕Data_Extraction∕instagram_downloads∕p2r.ujin/2024-08-02_00-01-47_UTC_1.jpg ∕Users∕rlatldn20001114∕TPP∕Data_Extraction∕instagram_downloads∕p2r.ujin/2024-08-02_00-01-47_UTC_2.jpg \n",
      "∕Users∕rlatldn20001114∕TPP∕Data_Extraction∕instagram_downloads∕p2r.ujin/2024-07-30_23-07-54_UTC.jpg \n",
      "∕Users∕rlatldn20001114∕TPP∕Data_Extraction∕instagram_downloads∕p2r.ujin/2024-07-28_23-58-07_UTC.jpg \n",
      "∕Users∕rlatldn20001114∕TPP∕Data_Extraction∕instagram_downloads∕p2r.ujin/2024-07-25_22-58-13_UTC_1.jpg ∕Users∕rlatldn20001114∕TPP∕Data_Extraction∕instagram_downloads∕p2r.ujin/2024-07-25_22-58-13_UTC_2.jpg \n",
      "∕Users∕rlatldn20001114∕TPP∕Data_Extraction∕instagram_downloads∕p2r.ujin/2024-07-23_23-24-52_UTC_1.jpg ∕Users∕rlatldn20001114∕TPP∕Data_Extraction∕instagram_downloads∕p2r.ujin/2024-07-23_23-24-52_UTC_2.jpg \n",
      "∕Users∕rlatldn20001114∕TPP∕Data_Extraction∕instagram_downloads∕p2r.ujin/2024-07-22_23-42-45_UTC_1.jpg ∕Users∕rlatldn20001114∕TPP∕Data_Extraction∕instagram_downloads∕p2r.ujin/2024-07-22_23-42-45_UTC_4.jpg \n",
      "∕Users∕rlatldn20001114∕TPP∕Data_Extraction∕instagram_downloads∕p2r.ujin/2024-07-18_00-18-22_UTC_1.jpg ∕Users∕rlatldn20001114∕TPP∕Data_Extraction∕instagram_downloads∕p2r.ujin/2024-07-18_00-18-22_UTC_2.jpg \n",
      "∕Users∕rlatldn20001114∕TPP∕Data_Extraction∕instagram_downloads∕p2r.ujin/2024-07-14_23-26-17_UTC_1.jpg ∕Users∕rlatldn20001114∕TPP∕Data_Extraction∕instagram_downloads∕p2r.ujin/2024-07-14_23-26-17_UTC_2.jpg \n",
      "∕Users∕rlatldn20001114∕TPP∕Data_Extraction∕instagram_downloads∕p2r.ujin/2024-07-11_23-28-43_UTC_1.jpg ∕Users∕rlatldn20001114∕TPP∕Data_Extraction∕instagram_downloads∕p2r.ujin/2024-07-11_23-28-43_UTC_2.jpg ∕Users∕rlatldn20001114∕TPP∕Data_Extraction∕instagram_downloads∕p2r.ujin/2024-07-11_23-28-43_UTC_4.jpg \n",
      "∕Users∕rlatldn20001114∕TPP∕Data_Extraction∕instagram_downloads∕p2r.ujin/2024-07-02_23-48-48_UTC_1.jpg ∕Users∕rlatldn20001114∕TPP∕Data_Extraction∕instagram_downloads∕p2r.ujin/2024-07-02_23-48-48_UTC_2.jpg \n",
      "∕Users∕rlatldn20001114∕TPP∕Data_Extraction∕instagram_downloads∕p2r.ujin/2024-06-20_23-56-16_UTC.jpg \n",
      "∕Users∕rlatldn20001114∕TPP∕Data_Extraction∕instagram_downloads∕p2r.ujin/2024-06-16_23-48-38_UTC_1.jpg ∕Users∕rlatldn20001114∕TPP∕Data_Extraction∕instagram_downloads∕p2r.ujin/2024-06-16_23-48-38_UTC_2.jpg ∕Users∕rlatldn20001114∕TPP∕Data_Extraction∕instagram_downloads∕p2r.ujin/2024-06-16_23-48-38_UTC_3.jpg ∕Users∕rlatldn20001114∕TPP∕Data_Extraction∕instagram_downloads∕p2r.ujin/2024-06-16_23-48-38_UTC_4.jpg ∕Users∕rlatldn20001114∕TPP∕Data_Extraction∕instagram_downloads∕p2r.ujin/2024-06-16_23-48-38_UTC_5.jpg ∕Users∕rlatldn20001114∕TPP∕Data_Extraction∕instagram_downloads∕p2r.ujin/2024-06-16_23-48-38_UTC_6.jpg ∕Users∕rlatldn20001114∕TPP∕Data_Extraction∕instagram_downloads∕p2r.ujin/2024-06-16_23-48-38_UTC_7.jpg ∕Users∕rlatldn20001114∕TPP∕Data_Extraction∕instagram_downloads∕p2r.ujin/2024-06-16_23-48-38_UTC_8.jpg ∕Users∕rlatldn20001114∕TPP∕Data_Extraction∕instagram_downloads∕p2r.ujin/2024-06-16_23-48-38_UTC_9.jpg \n",
      "∕Users∕rlatldn20001114∕TPP∕Data_Extraction∕instagram_downloads∕p2r.ujin/2024-06-10_23-11-52_UTC.jpg \n",
      "∕Users∕rlatldn20001114∕TPP∕Data_Extraction∕instagram_downloads∕p2r.ujin/2024-06-03_22-19-18_UTC.jpg \n",
      "∕Users∕rlatldn20001114∕TPP∕Data_Extraction∕instagram_downloads∕p2r.ujin/2024-05-27_22-03-12_UTC_1.jpg ∕Users∕rlatldn20001114∕TPP∕Data_Extraction∕instagram_downloads∕p2r.ujin/2024-05-27_22-03-12_UTC_2.jpg \n",
      "∕Users∕rlatldn20001114∕TPP∕Data_Extraction∕instagram_downloads∕p2r.ujin/2024-05-21_23-52-36_UTC_1.jpg ∕Users∕rlatldn20001114∕TPP∕Data_Extraction∕instagram_downloads∕p2r.ujin/2024-05-21_23-52-36_UTC_2.jpg ∕Users∕rlatldn20001114∕TPP∕Data_Extraction∕instagram_downloads∕p2r.ujin/2024-05-21_23-52-36_UTC_3.jpg \n",
      "∕Users∕rlatldn20001114∕TPP∕Data_Extraction∕instagram_downloads∕p2r.ujin/2024-05-15_22-45-35_UTC.jpg \n",
      "∕Users∕rlatldn20001114∕TPP∕Data_Extraction∕instagram_downloads∕p2r.ujin/2024-05-13_23-08-15_UTC.jpg \n",
      "∕Users∕rlatldn20001114∕TPP∕Data_Extraction∕instagram_downloads∕p2r.ujin/2024-05-12_22-44-26_UTC.jpg \n",
      "∕Users∕rlatldn20001114∕TPP∕Data_Extraction∕instagram_downloads∕p2r.ujin/2024-05-05_23-21-29_UTC_1.jpg ∕Users∕rlatldn20001114∕TPP∕Data_Extraction∕instagram_downloads∕p2r.ujin/2024-05-05_23-21-29_UTC_2.jpg \n",
      "∕Users∕rlatldn20001114∕TPP∕Data_Extraction∕instagram_downloads∕p2r.ujin/2024-04-29_00-55-05_UTC_1.jpg ∕Users∕rlatldn20001114∕TPP∕Data_Extraction∕instagram_downloads∕p2r.ujin/2024-04-29_00-55-05_UTC_2.jpg \n",
      "∕Users∕rlatldn20001114∕TPP∕Data_Extraction∕instagram_downloads∕p2r.ujin/2024-04-25_22-56-13_UTC_1.jpg ∕Users∕rlatldn20001114∕TPP∕Data_Extraction∕instagram_downloads∕p2r.ujin/2024-04-25_22-56-13_UTC_2.jpg \n",
      "∕Users∕rlatldn20001114∕TPP∕Data_Extraction∕instagram_downloads∕p2r.ujin/2024-04-16_00-17-53_UTC.jpg \n",
      "\n",
      "\n",
      "∕Users∕rlatldn20001114∕TPP∕Data_Extraction∕instagram_downloads∕p2r.ujin/2024-03-21_23-27-23_UTC_1.jpg ∕Users∕rlatldn20001114∕TPP∕Data_Extraction∕instagram_downloads∕p2r.ujin/2024-03-21_23-27-23_UTC_2.jpg ∕Users∕rlatldn20001114∕TPP∕Data_Extraction∕instagram_downloads∕p2r.ujin/2024-03-21_23-27-23_UTC_3.jpg \n",
      "∕Users∕rlatldn20001114∕TPP∕Data_Extraction∕instagram_downloads∕p2r.ujin/2024-03-21_00-17-57_UTC.jpg \n",
      "∕Users∕rlatldn20001114∕TPP∕Data_Extraction∕instagram_downloads∕p2r.ujin/2024-03-18_22-55-47_UTC.jpg \n",
      "∕Users∕rlatldn20001114∕TPP∕Data_Extraction∕instagram_downloads∕p2r.ujin/2024-03-17_22-36-30_UTC_1.jpg ∕Users∕rlatldn20001114∕TPP∕Data_Extraction∕instagram_downloads∕p2r.ujin/2024-03-17_22-36-30_UTC_2.jpg ∕Users∕rlatldn20001114∕TPP∕Data_Extraction∕instagram_downloads∕p2r.ujin/2024-03-17_22-36-30_UTC_3.jpg \n",
      "\n",
      "∕Users∕rlatldn20001114∕TPP∕Data_Extraction∕instagram_downloads∕p2r.ujin/2024-03-08_00-09-21_UTC_1.jpg ∕Users∕rlatldn20001114∕TPP∕Data_Extraction∕instagram_downloads∕p2r.ujin/2024-03-08_00-09-21_UTC_2.jpg \n",
      "∕Users∕rlatldn20001114∕TPP∕Data_Extraction∕instagram_downloads∕p2r.ujin/2024-03-06_23-27-24_UTC_1.jpg ∕Users∕rlatldn20001114∕TPP∕Data_Extraction∕instagram_downloads∕p2r.ujin/2024-03-06_23-27-24_UTC_2.jpg ∕Users∕rlatldn20001114∕TPP∕Data_Extraction∕instagram_downloads∕p2r.ujin/2024-03-06_23-27-24_UTC_3.jpg \n",
      "∕Users∕rlatldn20001114∕TPP∕Data_Extraction∕instagram_downloads∕p2r.ujin/2024-03-05_23-51-15_UTC_1.jpg ∕Users∕rlatldn20001114∕TPP∕Data_Extraction∕instagram_downloads∕p2r.ujin/2024-03-05_23-51-15_UTC_2.jpg \n",
      "∕Users∕rlatldn20001114∕TPP∕Data_Extraction∕instagram_downloads∕p2r.ujin/2024-03-03_23-02-08_UTC_2.jpg \n",
      "∕Users∕rlatldn20001114∕TPP∕Data_Extraction∕instagram_downloads∕p2r.ujin/2024-02-27_01-01-04_UTC_1.jpg ∕Users∕rlatldn20001114∕TPP∕Data_Extraction∕instagram_downloads∕p2r.ujin/2024-02-27_01-01-04_UTC_2.jpg \n",
      "∕Users∕rlatldn20001114∕TPP∕Data_Extraction∕instagram_downloads∕p2r.ujin/2024-02-22_23-56-07_UTC.jpg \n",
      "∕Users∕rlatldn20001114∕TPP∕Data_Extraction∕instagram_downloads∕p2r.ujin/2024-02-07_22-39-49_UTC.jpg \n",
      "∕Users∕rlatldn20001114∕TPP∕Data_Extraction∕instagram_downloads∕p2r.ujin/2024-02-03_00-23-15_UTC_1.jpg ∕Users∕rlatldn20001114∕TPP∕Data_Extraction∕instagram_downloads∕p2r.ujin/2024-02-03_00-23-15_UTC_2.jpg ∕Users∕rlatldn20001114∕TPP∕Data_Extraction∕instagram_downloads∕p2r.ujin/2024-02-03_00-23-15_UTC_3.jpg \n",
      "∕Users∕rlatldn20001114∕TPP∕Data_Extraction∕instagram_downloads∕p2r.ujin/2024-02-02_05-21-56_UTC_2.jpg \n",
      "\n",
      "∕Users∕rlatldn20001114∕TPP∕Data_Extraction∕instagram_downloads∕p2r.ujin/2024-01-30_23-22-47_UTC_1.jpg ∕Users∕rlatldn20001114∕TPP∕Data_Extraction∕instagram_downloads∕p2r.ujin/2024-01-30_23-22-47_UTC_2.jpg \n",
      "∕Users∕rlatldn20001114∕TPP∕Data_Extraction∕instagram_downloads∕p2r.ujin/2024-01-28_23-03-37_UTC.jpg \n",
      "\n",
      "∕Users∕rlatldn20001114∕TPP∕Data_Extraction∕instagram_downloads∕p2r.ujin/2024-01-22_22-58-48_UTC.jpg \n",
      "\n",
      "∕Users∕rlatldn20001114∕TPP∕Data_Extraction∕instagram_downloads∕p2r.ujin/2024-01-08_00-02-57_UTC_2.jpg \n",
      "∕Users∕rlatldn20001114∕TPP∕Data_Extraction∕instagram_downloads∕p2r.ujin/2024-01-05_02-17-37_UTC.jpg \n",
      "∕Users∕rlatldn20001114∕TPP∕Data_Extraction∕instagram_downloads∕p2r.ujin/2024-01-03_22-35-42_UTC.jpg \n",
      "∕Users∕rlatldn20001114∕TPP∕Data_Extraction∕instagram_downloads∕p2r.ujin/2024-01-03_00-59-55_UTC.jpg \n",
      "∕Users∕rlatldn20001114∕TPP∕Data_Extraction∕instagram_downloads∕p2r.ujin/2024-01-02_02-54-48_UTC.jpg \n",
      "∕Users∕rlatldn20001114∕TPP∕Data_Extraction∕instagram_downloads∕p2r.ujin/2023-12-19_00-30-17_UTC_1.jpg ∕Users∕rlatldn20001114∕TPP∕Data_Extraction∕instagram_downloads∕p2r.ujin/2023-12-19_00-30-17_UTC_2.jpg ∕Users∕rlatldn20001114∕TPP∕Data_Extraction∕instagram_downloads∕p2r.ujin/2023-12-19_00-30-17_UTC_3.jpg \n",
      "∕Users∕rlatldn20001114∕TPP∕Data_Extraction∕instagram_downloads∕p2r.ujin/2023-11-19_21-26-08_UTC.jpg \n",
      "∕Users∕rlatldn20001114∕TPP∕Data_Extraction∕instagram_downloads∕p2r.ujin/2023-10-29_22-28-13_UTC_1.jpg ∕Users∕rlatldn20001114∕TPP∕Data_Extraction∕instagram_downloads∕p2r.ujin/2023-10-29_22-28-13_UTC_2.jpg \n",
      "∕Users∕rlatldn20001114∕TPP∕Data_Extraction∕instagram_downloads∕p2r.ujin/2023-10-12_23-14-56_UTC_1.jpg ∕Users∕rlatldn20001114∕TPP∕Data_Extraction∕instagram_downloads∕p2r.ujin/2023-10-12_23-14-56_UTC_2.jpg \n",
      "∕Users∕rlatldn20001114∕TPP∕Data_Extraction∕instagram_downloads∕p2r.ujin/2023-10-11_22-54-08_UTC_1.jpg ∕Users∕rlatldn20001114∕TPP∕Data_Extraction∕instagram_downloads∕p2r.ujin/2023-10-11_22-54-08_UTC_2.jpg \n",
      "∕Users∕rlatldn20001114∕TPP∕Data_Extraction∕instagram_downloads∕p2r.ujin/2023-07-31_10-15-24_UTC.jpg \n",
      "∕Users∕rlatldn20001114∕TPP∕Data_Extraction∕instagram_downloads∕p2r.ujin/2023-07-19_11-04-36_UTC_1.jpg ∕Users∕rlatldn20001114∕TPP∕Data_Extraction∕instagram_downloads∕p2r.ujin/2023-07-19_11-04-36_UTC_2.jpg \n",
      "∕Users∕rlatldn20001114∕TPP∕Data_Extraction∕instagram_downloads∕p2r.ujin/2023-07-18_11-08-13_UTC_1.jpg ∕Users∕rlatldn20001114∕TPP∕Data_Extraction∕instagram_downloads∕p2r.ujin/2023-07-18_11-08-13_UTC_2.jpg ∕Users∕rlatldn20001114∕TPP∕Data_Extraction∕instagram_downloads∕p2r.ujin/2023-07-18_11-08-13_UTC_3.jpg \n",
      "∕Users∕rlatldn20001114∕TPP∕Data_Extraction∕instagram_downloads∕p2r.ujin/2023-07-10_09-27-32_UTC_1.jpg ∕Users∕rlatldn20001114∕TPP∕Data_Extraction∕instagram_downloads∕p2r.ujin/2023-07-10_09-27-32_UTC_2.jpg ∕Users∕rlatldn20001114∕TPP∕Data_Extraction∕instagram_downloads∕p2r.ujin/2023-07-10_09-27-32_UTC_3.jpg \n",
      "∕Users∕rlatldn20001114∕TPP∕Data_Extraction∕instagram_downloads∕p2r.ujin/2023-07-05_12-06-18_UTC_1.jpg ∕Users∕rlatldn20001114∕TPP∕Data_Extraction∕instagram_downloads∕p2r.ujin/2023-07-05_12-06-18_UTC_2.jpg ∕Users∕rlatldn20001114∕TPP∕Data_Extraction∕instagram_downloads∕p2r.ujin/2023-07-05_12-06-18_UTC_3.jpg ∕Users∕rlatldn20001114∕TPP∕Data_Extraction∕instagram_downloads∕p2r.ujin/2023-07-05_12-06-18_UTC_4.jpg \n",
      "∕Users∕rlatldn20001114∕TPP∕Data_Extraction∕instagram_downloads∕p2r.ujin/2023-06-22_09-48-29_UTC.jpg \n",
      "∕Users∕rlatldn20001114∕TPP∕Data_Extraction∕instagram_downloads∕p2r.ujin/2023-06-08_08-15-11_UTC.jpg \n",
      "\n",
      "∕Users∕rlatldn20001114∕TPP∕Data_Extraction∕instagram_downloads∕p2r.ujin/2023-06-01_07-04-40_UTC_1.jpg ∕Users∕rlatldn20001114∕TPP∕Data_Extraction∕instagram_downloads∕p2r.ujin/2023-06-01_07-04-40_UTC_2.jpg \n",
      "∕Users∕rlatldn20001114∕TPP∕Data_Extraction∕instagram_downloads∕p2r.ujin/2023-05-26_06-52-48_UTC_1.jpg ∕Users∕rlatldn20001114∕TPP∕Data_Extraction∕instagram_downloads∕p2r.ujin/2023-05-26_06-52-48_UTC_2.jpg \n",
      "∕Users∕rlatldn20001114∕TPP∕Data_Extraction∕instagram_downloads∕p2r.ujin/2023-05-18_11-07-34_UTC.jpg \n",
      "∕Users∕rlatldn20001114∕TPP∕Data_Extraction∕instagram_downloads∕p2r.ujin/2023-05-16_12-07-30_UTC.jpg \n",
      "∕Users∕rlatldn20001114∕TPP∕Data_Extraction∕instagram_downloads∕p2r.ujin/2023-05-15_08-22-25_UTC.jpg \n",
      "\n",
      "∕Users∕rlatldn20001114∕TPP∕Data_Extraction∕instagram_downloads∕p2r.ujin/2023-05-08_05-57-43_UTC.jpg \n",
      "∕Users∕rlatldn20001114∕TPP∕Data_Extraction∕instagram_downloads∕p2r.ujin/2023-05-05_05-44-35_UTC_1.jpg ∕Users∕rlatldn20001114∕TPP∕Data_Extraction∕instagram_downloads∕p2r.ujin/2023-05-05_05-44-35_UTC_2.jpg \n",
      "∕Users∕rlatldn20001114∕TPP∕Data_Extraction∕instagram_downloads∕p2r.ujin/2023-05-03_09-05-09_UTC_1.jpg ∕Users∕rlatldn20001114∕TPP∕Data_Extraction∕instagram_downloads∕p2r.ujin/2023-05-03_09-05-09_UTC_2.jpg \n",
      "\n",
      "∕Users∕rlatldn20001114∕TPP∕Data_Extraction∕instagram_downloads∕p2r.ujin/2023-04-22_22-52-18_UTC_1.jpg ∕Users∕rlatldn20001114∕TPP∕Data_Extraction∕instagram_downloads∕p2r.ujin/2023-04-22_22-52-18_UTC_2.jpg \n",
      "∕Users∕rlatldn20001114∕TPP∕Data_Extraction∕instagram_downloads∕p2r.ujin/2023-04-22_08-22-55_UTC.jpg \n",
      "\n",
      "∕Users∕rlatldn20001114∕TPP∕Data_Extraction∕instagram_downloads∕p2r.ujin/2023-04-20_00-27-24_UTC.jpg \n",
      "∕Users∕rlatldn20001114∕TPP∕Data_Extraction∕instagram_downloads∕p2r.ujin/2023-04-11_14-45-45_UTC.jpg \n",
      "∕Users∕rlatldn20001114∕TPP∕Data_Extraction∕instagram_downloads∕p2r.ujin/2023-04-05_13-04-04_UTC.jpg \n",
      "∕Users∕rlatldn20001114∕TPP∕Data_Extraction∕instagram_downloads∕p2r.ujin/2023-04-04_07-26-34_UTC.jpg \n",
      "∕Users∕rlatldn20001114∕TPP∕Data_Extraction∕instagram_downloads∕p2r.ujin/2023-04-04_01-46-54_UTC.jpg \n"
     ]
    }
   ],
   "source": [
    "profile = instaloader.Profile.from_username(data_loader.context, TARGET_USER)\n",
    "\n",
    "for post in profile.get_posts():\n",
    "    #파일명이 같으면 체크성 비교 후 건너뛰기 -> 중복 무시\n",
    "    data_loader.download_post(post, target = str(save_dir))\n"
   ]
  },
  {
   "cell_type": "code",
   "execution_count": null,
   "metadata": {},
   "outputs": [],
   "source": []
  }
 ],
 "metadata": {
  "kernelspec": {
   "display_name": "data_extract_env",
   "language": "python",
   "name": "python3"
  },
  "language_info": {
   "codemirror_mode": {
    "name": "ipython",
    "version": 3
   },
   "file_extension": ".py",
   "mimetype": "text/x-python",
   "name": "python",
   "nbconvert_exporter": "python",
   "pygments_lexer": "ipython3",
   "version": "3.11.11"
  }
 },
 "nbformat": 4,
 "nbformat_minor": 2
}
